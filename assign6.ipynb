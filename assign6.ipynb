{
 "cells": [
  {
   "cell_type": "markdown",
   "id": "c8a37fa7",
   "metadata": {},
   "source": [
    "Assignment 1"
   ]
  },
  {
   "cell_type": "markdown",
   "id": "94208c3f",
   "metadata": {},
   "source": [
    "1. Create a JSON file (employee.json) containing employee \n",
    "information of minimum 5 employees. Each employee information\n",
    "consists of Name, DOB, Height, City, State. Write a python\n",
    "program that reads this information from the JSON file and \n",
    "saves the information into a list of objects of Employee\n",
    "class.\n",
    "Finally print the list of the Employee objects."
   ]
  },
  {
   "cell_type": "code",
   "execution_count": null,
   "id": "1ade7a1d",
   "metadata": {},
   "outputs": [],
   "source": [
    "import json\n",
    "\n",
    "class Employee:\n",
    "    def _init_(self, name, dob, height, city, state):\n",
    "        self.name = name\n",
    "        self.dob = dob\n",
    "        self.height = height\n",
    "        self.city = city\n",
    "        self.state = state\n",
    "\n",
    "with open('employee.json', 'r') as file:\n",
    "    employee_data = json.load(file)\n",
    "\n",
    "employee_objects = []\n",
    "for employee in employee_data:\n",
    "    employee_obj = Employee(\n",
    "        employee[\"Name\"],\n",
    "        employee[\"DOB\"],\n",
    "        employee[\"Height\"],\n",
    "        employee[\"City\"],\n",
    "        employee[\"State\"]\n",
    "    )\n",
    "    employee_objects.append(employee_obj)\n",
    "\n",
    "for employee in employee_objects:\n",
    "    print(\"Name:\" ,employee.name, \"DOB: \",employee.dob,\"Height:\",employee.height, \n",
    "          \"City:\",employee.city,\"State:\",employee.state)"
   ]
  },
  {
   "cell_type": "code",
   "execution_count": null,
   "id": "51266bd1",
   "metadata": {},
   "outputs": [],
   "source": []
  },
  {
   "cell_type": "markdown",
   "id": "e7be3299",
   "metadata": {},
   "source": [
    "👉 2. Create a dictionary of any 7 Indian states\n",
    "and their capitals. Write this into a JSON file.\n",
    "\n"
   ]
  },
  {
   "cell_type": "code",
   "execution_count": 1,
   "id": "3e10361a",
   "metadata": {},
   "outputs": [
    {
     "name": "stdout",
     "output_type": "stream",
     "text": [
      "\n",
      "enter the state: telangana\n",
      "enter the capital:hyderabad\n",
      "\n",
      "enter the state: andhrapradesh\n",
      "enter the capital:amaravathi\n",
      "\n",
      "enter the state: tamilnadu\n",
      "enter the capital:chennai\n",
      "\n",
      "enter the state: kerala\n",
      "enter the capital:trivendrum\n",
      "\n",
      "enter the state: karnataka\n",
      "enter the capital:banglore\n",
      "\n",
      "enter the state: madhyapradesh\n",
      "enter the capital:mumbai\n",
      "\n",
      "enter the state: goa \n",
      "enter the capital:panaji\n",
      "{'telangana': 'hyderabad', 'andhrapradesh': 'amaravathi', 'tamilnadu': 'chennai', 'kerala': 'trivendrum', 'karnataka': 'banglore', 'madhyapradesh': 'mumbai', 'goa ': 'panaji'}\n"
     ]
    }
   ],
   "source": [
    "import json\n",
    "\n",
    "def capital():\n",
    "    indian_states={}\n",
    "    for i in range(0,7):\n",
    "        state=input(\"\\nenter the state: \")\n",
    "        capital=input(\"enter the capital:\")\n",
    "        indian_states[state]=capital\n",
    "    \n",
    "    print(indian_states)\n",
    "    with open('states_capital.json','w') as file_handler:\n",
    "        json.dump(indian_states,file_handler)\n",
    "    \n",
    "capital()"
   ]
  },
  {
   "cell_type": "markdown",
   "id": "36fe8e03",
   "metadata": {},
   "source": [
    "Assignment 2"
   ]
  },
  {
   "cell_type": "markdown",
   "id": "b654cad6",
   "metadata": {},
   "source": [
    "1. Create a class named ‘Dog’. It should have a constructor \n",
    "which accepts its name, age and coat color. You must perform\n",
    "the following operations:\n",
    "🔴 a. It should have a function ‘description()’ which prints \n",
    "the name and age of the dog.\n",
    "🔴 b. It should have a function ‘get_info()’ which prints\n",
    "the coat color of the dog.\n",
    "🔴 c. Create child classes ‘JackRussellTerrier’ and ‘Bulldog’\n",
    "which is inherited from the class ‘Dog’. It should have at\n",
    "least two methods of its own.\n",
    "🔴 d. Create objects and implement the above functionalities.\n"
   ]
  },
  {
   "cell_type": "code",
   "execution_count": 28,
   "id": "0394b443",
   "metadata": {},
   "outputs": [],
   "source": [
    "class Dog:\n",
    "    def __init__(self,name,age,coat_color):\n",
    "        self.name=name\n",
    "        self.age=age\n",
    "        self.coat_color=coat_color\n",
    "    def description(self):\n",
    "        print(\"The Name of the dog is\",self.name,\n",
    "              \"age is\",self.age)\n",
    "    def get_info(self):\n",
    "        print(\"the coat color of a dog is \",self.coat_color)\n",
    "class JackRussellTerrier(Dog):\n",
    "    def __init__(self,name,age,coat_color):\n",
    "        super().__init__(name,age,coat_color)\n",
    "    \n",
    "    def behavior(self):\n",
    "        print(self.name,\" is a happy, energetic dog with a strong desire to work\")\n",
    "    def digging(self):\n",
    "        print(\"digging is normal for a \",self.name)\n",
    "    \n",
    "class Bulldog(Dog):\n",
    "    def __init__(self,name,age,coat_color):\n",
    "        super().__init__(name,age,coat_color)\n",
    "        \n",
    "    def Temperament(self):\n",
    "        print(self.name,\"exhibits a gentle and affectionate Temperament\")\n",
    "    def features(self):\n",
    "        print(\"This dog has a wrinkled face and pushed-in nose\")\n",
    "        "
   ]
  },
  {
   "cell_type": "code",
   "execution_count": 22,
   "id": "3a52c61b",
   "metadata": {},
   "outputs": [],
   "source": [
    "pet=Dog('rio',2,\"pale black\")"
   ]
  },
  {
   "cell_type": "code",
   "execution_count": 23,
   "id": "5eac9c8e",
   "metadata": {},
   "outputs": [
    {
     "name": "stdout",
     "output_type": "stream",
     "text": [
      "The Name of the dog is rio age is 2\n"
     ]
    }
   ],
   "source": [
    "pet.description()"
   ]
  },
  {
   "cell_type": "code",
   "execution_count": 24,
   "id": "cf3334d4",
   "metadata": {},
   "outputs": [
    {
     "name": "stdout",
     "output_type": "stream",
     "text": [
      "the coat color of a dog is  pale black\n"
     ]
    }
   ],
   "source": [
    "pet.get_info()"
   ]
  },
  {
   "cell_type": "code",
   "execution_count": 25,
   "id": "0d4bc631",
   "metadata": {},
   "outputs": [],
   "source": [
    "jack=JackRussellTerrier('happy',1,\"white\")"
   ]
  },
  {
   "cell_type": "code",
   "execution_count": 26,
   "id": "1c544047",
   "metadata": {},
   "outputs": [
    {
     "name": "stdout",
     "output_type": "stream",
     "text": [
      "The Name of the dog is happy age is 1\n"
     ]
    }
   ],
   "source": [
    "jack.description()"
   ]
  },
  {
   "cell_type": "code",
   "execution_count": 27,
   "id": "a66feebd",
   "metadata": {},
   "outputs": [
    {
     "name": "stdout",
     "output_type": "stream",
     "text": [
      "the coat color of a dog is  white\n"
     ]
    }
   ],
   "source": [
    "jack.get_info()"
   ]
  },
  {
   "cell_type": "code",
   "execution_count": 29,
   "id": "e5baef98",
   "metadata": {},
   "outputs": [
    {
     "name": "stdout",
     "output_type": "stream",
     "text": [
      "happy  is a happy, energetic dog with a strong desire to work\n"
     ]
    }
   ],
   "source": [
    "jack.behavior()"
   ]
  },
  {
   "cell_type": "code",
   "execution_count": 30,
   "id": "33b59ebb",
   "metadata": {},
   "outputs": [
    {
     "name": "stdout",
     "output_type": "stream",
     "text": [
      "digging is normal for a  happy\n"
     ]
    }
   ],
   "source": [
    "jack.digging()"
   ]
  },
  {
   "cell_type": "code",
   "execution_count": 32,
   "id": "3d4913d3",
   "metadata": {},
   "outputs": [
    {
     "name": "stdout",
     "output_type": "stream",
     "text": [
      "snoopy exhibits a gentle and affectionate Temperament\n"
     ]
    }
   ],
   "source": [
    "bull=Bulldog('snoopy',3,\"cream-black\")\n",
    "bull.Temperament()"
   ]
  },
  {
   "cell_type": "code",
   "execution_count": 33,
   "id": "f1c1979b",
   "metadata": {},
   "outputs": [
    {
     "name": "stdout",
     "output_type": "stream",
     "text": [
      "This dog has a wrinkled face and pushed-in nose\n"
     ]
    }
   ],
   "source": [
    "bull.features()"
   ]
  },
  {
   "cell_type": "code",
   "execution_count": 34,
   "id": "8aa85b4d",
   "metadata": {},
   "outputs": [
    {
     "name": "stdout",
     "output_type": "stream",
     "text": [
      "The Name of the dog is snoopy age is 3\n"
     ]
    }
   ],
   "source": [
    "bull.description()"
   ]
  },
  {
   "cell_type": "code",
   "execution_count": 36,
   "id": "2ccea7fa",
   "metadata": {},
   "outputs": [
    {
     "name": "stdout",
     "output_type": "stream",
     "text": [
      "the coat color of a dog is  cream-black\n"
     ]
    }
   ],
   "source": [
    "bull.get_info()"
   ]
  },
  {
   "cell_type": "code",
   "execution_count": null,
   "id": "fff08130",
   "metadata": {},
   "outputs": [],
   "source": []
  }
 ],
 "metadata": {
  "kernelspec": {
   "display_name": "Python 3 (ipykernel)",
   "language": "python",
   "name": "python3"
  },
  "language_info": {
   "codemirror_mode": {
    "name": "ipython",
    "version": 3
   },
   "file_extension": ".py",
   "mimetype": "text/x-python",
   "name": "python",
   "nbconvert_exporter": "python",
   "pygments_lexer": "ipython3",
   "version": "3.10.9"
  }
 },
 "nbformat": 4,
 "nbformat_minor": 5
}
