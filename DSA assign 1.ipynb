{
 "cells": [
  {
   "cell_type": "markdown",
   "id": "40e60a62",
   "metadata": {},
   "source": [
    "Q1. Write a program to find all pairs of an integer array \n",
    "whose sum is equal to a given number?\n",
    "\n"
   ]
  },
  {
   "cell_type": "code",
   "execution_count": 15,
   "id": "7592125f",
   "metadata": {},
   "outputs": [
    {
     "name": "stdout",
     "output_type": "stream",
     "text": [
      "the pair of sum of numbers equals the given number 8: [(3, 5), (2, 6), (1, 7)]\n"
     ]
    }
   ],
   "source": [
    "def pairs(int_arr,sum_num):\n",
    "    pairs=[]\n",
    "    traverse=set()\n",
    "\n",
    "    for i in int_arr:\n",
    "        n=sum_num-i\n",
    "        if n in traverse:\n",
    "            pairs.append((n,i))\n",
    "        traverse.add(i)\n",
    "    return pairs\n",
    "int_arr=[1,2,3,4,5,6,7,8]\n",
    "sum_num=8\n",
    "result=pairs(int_arr,sum_num)\n",
    "print(\"the pair of sum of numbers equals the given number {}: {}\".format(sum_num,result))"
   ]
  },
  {
   "cell_type": "markdown",
   "id": "ff653c42",
   "metadata": {},
   "source": [
    "Q2. Write a program to reverse an array in place? In place means you cannot create a new array. You have to update the original array."
   ]
  },
  {
   "cell_type": "code",
   "execution_count": 25,
   "id": "8fe8aac3",
   "metadata": {},
   "outputs": [
    {
     "name": "stdout",
     "output_type": "stream",
     "text": [
      "[6, 9, 48, 23, 1]\n"
     ]
    }
   ],
   "source": [
    "def reverse_array(arr):\n",
    "    size=len(arr)\n",
    "    start_id=0\n",
    "    end_id=size-1\n",
    "    \n",
    "    while start_id < end_id:\n",
    "        arr[start_id],arr[end_id] = arr[end_id],arr[start_id]\n",
    "        start_id  += 1\n",
    "        end_id  -= 1\n",
    "    print(arr)\n",
    "arr=[1,23,48,9,6]\n",
    "reverse_array(arr)\n"
   ]
  },
  {
   "cell_type": "markdown",
   "id": "5bc3bbc6",
   "metadata": {},
   "source": [
    "Q3. Write a program to check if two strings are a rotation of each other?"
   ]
  },
  {
   "cell_type": "code",
   "execution_count": 31,
   "id": "5621e491",
   "metadata": {
    "scrolled": true
   },
   "outputs": [
    {
     "name": "stdout",
     "output_type": "stream",
     "text": [
      "enter the first string: abcdef\n",
      "enter the second string: fabcd\n",
      "the given strings are not of same size ,hence can't be rotational\n"
     ]
    }
   ],
   "source": [
    "def string_rotation(str1,str2):\n",
    "    if len(str1)==len(str2):\n",
    "        str1=str1+str1\n",
    "        if str2 in str1:\n",
    "            return \"the strings are rotation of each other\"\n",
    "        else:\n",
    "            return \"they are not rotational strings\"\n",
    "        \n",
    "    else:\n",
    "        print(\"the given strings are not of same size ,hence can't be rotational\")\n",
    "    \n",
    "        \n",
    "str1=input(str(\"enter the first string: \"))\n",
    "str2=input(str(\"enter the second string: \"))\n",
    "string_rotation(str1,str2)\n"
   ]
  },
  {
   "cell_type": "markdown",
   "id": "e9e6f260",
   "metadata": {},
   "source": [
    "Q4. Write a program to print the first non-repeated character from a string?"
   ]
  },
  {
   "cell_type": "code",
   "execution_count": 1,
   "id": "4857bdf3",
   "metadata": {},
   "outputs": [
    {
     "name": "stdout",
     "output_type": "stream",
     "text": [
      "enter the string: bhhavvani\n",
      "The First non-repeated character is  b\n"
     ]
    }
   ],
   "source": [
    "def non_repeated(str1):\n",
    "    ch_cnt={}\n",
    "    for ch in str1:\n",
    "        if ch in ch_cnt:\n",
    "            ch_cnt[ch] +=1\n",
    "        else:\n",
    "            ch_cnt[ch]=1\n",
    "    for ch in str1:\n",
    "        if ch_cnt[ch]==1:\n",
    "            return ch\n",
    "str1=input(str(\"enter the string: \"))\n",
    "result=non_repeated(str1)\n",
    "print(\"The First non-repeated character is \", result)"
   ]
  },
  {
   "cell_type": "markdown",
   "id": "21a58134",
   "metadata": {},
   "source": [
    "Q5. Read about the Tower of Hanoi algorithm. Write a program to implement it.\n",
    "\n"
   ]
  },
  {
   "cell_type": "code",
   "execution_count": 3,
   "id": "27f673d2",
   "metadata": {},
   "outputs": [
    {
     "name": "stdout",
     "output_type": "stream",
     "text": [
      "Move the disk 1 Source A to destination C\n",
      "Move the disk 2 Source A to destination B\n",
      "Move the disk 1 Source C to destination B\n",
      "Move the disk 3 Source A to destination C\n",
      "Move the disk 1 Source B to destination A\n",
      "Move the disk 2 Source B to destination C\n",
      "Move the disk 1 Source A to destination C\n"
     ]
    }
   ],
   "source": [
    "def TowerOfHanoi(n,source,dest,aux):\n",
    "    if n==0:\n",
    "        return \n",
    "   \n",
    "    TowerOfHanoi(n-1,source,aux,dest)\n",
    "\n",
    "    \n",
    "    print(\"Move the disk\",n,\"Source\",source,\"to destination\",dest)\n",
    "    \n",
    "    TowerOfHanoi(n-1,aux,dest,source)\n",
    "NumberOFDisks=3\n",
    "TowerOfHanoi(NumberOFDisks,'A','C','B')\n"
   ]
  },
  {
   "cell_type": "markdown",
   "id": "80c5254d",
   "metadata": {},
   "source": [
    "Q6. Read about infix, prefix, and postfix expressions. Write a program to convert postfix to prefix expression.\n",
    "\n"
   ]
  },
  {
   "cell_type": "code",
   "execution_count": 4,
   "id": "a88723af",
   "metadata": {},
   "outputs": [
    {
     "name": "stdout",
     "output_type": "stream",
     "text": [
      "ab+cd-*\n",
      "Prefix :  *+ab-cd\n"
     ]
    }
   ],
   "source": [
    "def postToPre(post_exp):\n",
    " \n",
    "    s = [] \n",
    "    op  = [\"+\",\"-\",\"/\",\"*\"]\n",
    "    size = len(post_exp)\n",
    " \n",
    "    for i in range(size):\n",
    " \n",
    "        if post_exp[i] in op:\n",
    " \n",
    "            op1 = s[-1]\n",
    "            s.pop()\n",
    "            op2 = s[-1]\n",
    "            s.pop()\n",
    " \n",
    "            temp = post_exp[i] + op2 + op1\n",
    " \n",
    "            s.append(temp)\n",
    " \n",
    "        else:\n",
    "             s.append(post_exp[i])\n",
    " \n",
    "    \n",
    "    result = \"\"\n",
    "    for i in s:\n",
    "        result += i\n",
    "    return result\n",
    " \n",
    "if __name__ == \"__main__\":\n",
    " \n",
    "    post_exp = input()\n",
    "    \n",
    "    print(\"Prefix : \", postToPre(post_exp))"
   ]
  },
  {
   "cell_type": "markdown",
   "id": "837364fe",
   "metadata": {},
   "source": [
    "Q7. Write a program to convert prefix expression to infix expression.\n",
    "\n"
   ]
  },
  {
   "cell_type": "code",
   "execution_count": 9,
   "id": "31adc5be",
   "metadata": {},
   "outputs": [
    {
     "name": "stdout",
     "output_type": "stream",
     "text": [
      "Enter a prefix expression:*-ab+cd\n",
      "Infix expression:  ((a-b)*(c+d))\n"
     ]
    }
   ],
   "source": [
    "def prefix_to_infix(expression):\n",
    "    stack = []\n",
    "    operators = [\"+\",\"-\",\"/\",\"*\"]\n",
    "    \n",
    "    for char in reversed(expression):\n",
    "        if char.isalnum():\n",
    "            stack.append(char)\n",
    "        else:\n",
    "            operand1 = stack.pop()\n",
    "            operand2 = stack.pop()\n",
    "            infix_expr = f\"({operand1}{char}{operand2})\"\n",
    "            stack.append(infix_expr)\n",
    "            \n",
    "    if len(stack) == 1:\n",
    "        return stack[0]\n",
    "    else:\n",
    "        raise ValueError (\"Invalid prefix expr\")\n",
    "\n",
    "prefix_expr = input(\"Enter a prefix expression:\")\n",
    "infix_expr = prefix_to_infix(prefix_expr)\n",
    "print(\"Infix expression: \",infix_expr)"
   ]
  },
  {
   "cell_type": "markdown",
   "id": "5a785ecb",
   "metadata": {},
   "source": [
    "Q8. Write a program to check if all the brackets are closed in a given \n",
    "code snippet.\n",
    "\n"
   ]
  },
  {
   "cell_type": "code",
   "execution_count": 10,
   "id": "1addcc6e",
   "metadata": {},
   "outputs": [
    {
     "name": "stdout",
     "output_type": "stream",
     "text": [
      "Enter the brackets: {()}{[[}]\n",
      "Missing Brackets \n"
     ]
    }
   ],
   "source": [
    "def brackets(expr):\n",
    "    stack = []\n",
    "    for ch in expr:\n",
    "        if ch in [\"(\",\"{\",\"[\"]:\n",
    "            stack.append(ch)\n",
    "        else:\n",
    "            if not stack:\n",
    "                return False\n",
    "            current_char=stack.pop()\n",
    "            if current_char==\"(\":\n",
    "                 if ch != \")\":\n",
    "                    return False\n",
    "            if current_char==\"{\":\n",
    "                 if ch != \"}\":\n",
    "                    return False\n",
    "            if current_char==\"[\":\n",
    "                 if ch != \"]\":\n",
    "                    return False\n",
    "    return len(stack) == 0\n",
    "\n",
    "user_input = input(\"Enter the brackets: \")\n",
    "\n",
    "if brackets(user_input):\n",
    "    print(\"Brackets are closed\")\n",
    "else:\n",
    "    print(\"Missing Brackets \")"
   ]
  },
  {
   "cell_type": "markdown",
   "id": "74b2c434",
   "metadata": {},
   "source": [
    "Q9. Write a program to reverse a stack.\n",
    "\n"
   ]
  },
  {
   "cell_type": "code",
   "execution_count": 1,
   "id": "b9dc1410",
   "metadata": {},
   "outputs": [
    {
     "name": "stdout",
     "output_type": "stream",
     "text": [
      "enter the no of push operations : 4\n",
      "5\n",
      "9\n",
      "7\n",
      "2\n",
      "Original Stack \n",
      "2 7 9 5 \n",
      "Reversed Stack \n",
      "5 9 7 2 \n"
     ]
    }
   ],
   "source": [
    "def insertAtBottom(stack, item):\n",
    "    if isEmpty(stack):\n",
    "        push(stack, item)\n",
    "    else:\n",
    "        temp = pop(stack)\n",
    "        insertAtBottom(stack, item)\n",
    "        push(stack, temp)\n",
    "        \n",
    "def reverse(stack):\n",
    "    if not isEmpty(stack):\n",
    "        temp = pop(stack)\n",
    "        reverse(stack)\n",
    "        insertAtBottom(stack, temp)\n",
    "\n",
    "def isEmpty(stack):\n",
    "    return len(stack) == 0\n",
    "\n",
    "def push(stack, item):\n",
    "    stack.append(item)\n",
    "\n",
    "\n",
    "def pop(stack):\n",
    "    if(isEmpty(stack)):\n",
    "        print(\"Stack Underflow \")\n",
    "        exit(1)\n",
    "    return stack.pop()\n",
    "\n",
    "def prints(stack):\n",
    "    for i in range(len(stack)-1, -1, -1):\n",
    "        print(stack[i], end=' ')\n",
    "    print()\n",
    "\n",
    "stack = []\n",
    "for i in range(int(input(\"enter the no of push operations : \"))):\n",
    "    push(stack,input())\n",
    "\n",
    "print(\"Original Stack \")\n",
    "prints(stack)\n",
    "\n",
    "\n",
    "reverse(stack)\n",
    "\n",
    "print(\"Reversed Stack \")\n",
    "prints(stack)\n"
   ]
  },
  {
   "cell_type": "markdown",
   "id": "df46a3a8",
   "metadata": {},
   "source": [
    "Q10. Write a program to find the smallest number using a stack.\n",
    "\n"
   ]
  },
  {
   "cell_type": "code",
   "execution_count": 8,
   "id": "500040c0",
   "metadata": {},
   "outputs": [
    {
     "name": "stdout",
     "output_type": "stream",
     "text": [
      "-4\n"
     ]
    }
   ],
   "source": [
    "class MinStack:\n",
    "\n",
    "    def __init__(self):\n",
    "        self.s = []\n",
    "\n",
    "    class Node:\n",
    "        def __init__(self, val, Min):\n",
    "            self.val = val\n",
    "            self.min = Min\n",
    "\n",
    "    def push(self, x):\n",
    "        if not self.s:\n",
    "            self.s.append(self.Node(x, x))\n",
    "        else:\n",
    "            Min = min(self.s[-1].min, x)\n",
    "            self.s.append(self.Node(x, Min))\n",
    "    def pop(self):\n",
    "        return self.s.pop().val\n",
    "    \n",
    "    def top(self):\n",
    "        return self.s[-1].val\n",
    "    \n",
    "    def getMin(self):\n",
    "        return self.s[-1].min\n",
    "\n",
    "s = MinStack()\n",
    "\n",
    "s.push(-1)\n",
    "s.push(10)\n",
    "s.push(-4)\n",
    "s.push(0)\n",
    "print(s.getMin())"
   ]
  },
  {
   "cell_type": "code",
   "execution_count": null,
   "id": "3fc9b8d9",
   "metadata": {},
   "outputs": [],
   "source": []
  }
 ],
 "metadata": {
  "kernelspec": {
   "display_name": "Python 3 (ipykernel)",
   "language": "python",
   "name": "python3"
  },
  "language_info": {
   "codemirror_mode": {
    "name": "ipython",
    "version": 3
   },
   "file_extension": ".py",
   "mimetype": "text/x-python",
   "name": "python",
   "nbconvert_exporter": "python",
   "pygments_lexer": "ipython3",
   "version": "3.10.9"
  }
 },
 "nbformat": 4,
 "nbformat_minor": 5
}
