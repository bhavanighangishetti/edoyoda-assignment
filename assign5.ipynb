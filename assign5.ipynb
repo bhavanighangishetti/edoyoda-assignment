{
 "cells": [
  {
   "cell_type": "raw",
   "id": "d920533b",
   "metadata": {},
   "source": [
    "Challenge 1: Square Numbers and Return Their Sum\n",
    "🔴 In this challenge, you need to implement a method that \n",
    "squares passing variables and returns their sum.\n",
    "\n",
    "Problem statement: Implement a class Point that has three \n",
    "    properties and a method. All these attributes\n",
    "    (properties and methods) should be public. This problem \n",
    "    can be broken down into two tasks:\n",
    "\n",
    "Task 1: 👉 Implement a constructor to initialize the values\n",
    "    of three properties: x, y, and z.\n",
    "\n",
    "Task 2: 👉 Implement a method, sqSum(), in the Point \n",
    "    class which squares x, y, and z and returns their sum.\n",
    "\n",
    "Sample properties 1, 3, 5\n",
    "\n",
    "Sample method output 35\n",
    "\n",
    "image1\n",
    "\n",
    "Coding exercise Create a class Point with three \n",
    "properties:\n",
    "    x, y, and z."
   ]
  },
  {
   "cell_type": "code",
   "execution_count": 13,
   "id": "3d09fe47",
   "metadata": {},
   "outputs": [
    {
     "data": {
      "text/plain": [
       "35"
      ]
     },
     "execution_count": 13,
     "metadata": {},
     "output_type": "execute_result"
    }
   ],
   "source": [
    "class Point:\n",
    "\n",
    "    def __init__(self,x,y,z):\n",
    "        self.x = x\n",
    "        self.y = y\n",
    "        self.z = z\n",
    "    \n",
    "        \n",
    "    def sqSum(self):\n",
    "        \n",
    "        sq_sum=self.x**2+self.y**2+self.z**2\n",
    "        return sq_sum\n",
    "       \n",
    "obsum = Point(1,3,5)\n",
    "obsum.sqSum()\n",
    "\n",
    "\n"
   ]
  },
  {
   "cell_type": "raw",
   "id": "f3169034",
   "metadata": {},
   "source": [
    "## Challenge 2: Implement a Calculator Class\n",
    "\n",
    "🔴 In this exercise, you have to implement a calculator that can perform addition, subtraction, multiplication, and division.\n",
    "\n",
    "**Problem statement**\n",
    "Write a Python class called Calculator by completing the tasks below:\n",
    "\n",
    "*Task 1*\n",
    "\n",
    "👉 **Initializer**\n",
    "\n",
    "Implement an initializer to initialize the values of num1 and num2.\n",
    "Properties\n",
    "\n",
    "    • num1\n",
    "    • num2\n",
    "\n",
    "*Task 2*\n",
    "\n",
    "👉 **Methods**\n",
    "\n",
    "    • add() is a method that returns the sum of num1 and num2.\n",
    "    • subtract() is a method that returns the subtraction of num1 from num2.\n",
    "    • multiply() is a method that returns the product of num1 and num2.\n",
    "    • divide() is a method that returns the division of num2 by num1.\n",
    "\n",
    "Input\n",
    "    - Pass numbers (integers or floats) in the initializer.\n",
    "\n",
    "Output\n",
    "    - addition, subtraction, division, and multiplication\n",
    "\n",
    "Sample input\n",
    "\n",
    "    obj = Calculator(10, 94)\n",
    "    obj.add()\n",
    "    obj.subtract()\n",
    "    obj.multiply()\n",
    "    obj.divide()\n",
    "\n",
    "Sample output\n",
    "\n",
    "    104\n",
    "    84\n",
    "    940\n",
    "    9.4\n",
    "\n",
    "Coding exercise\n",
    "\n",
    "    class Calculator:\n",
    "\n",
    "        def __init__(self):\n",
    "            pass\n",
    "        def add(self):\n",
    "            pass\n",
    "        def subtract(self):\n",
    "            pass\n",
    "        def multiply(self):\n",
    "            pass\n",
    "        def divide(self):\n",
    "            pass"
   ]
  },
  {
   "cell_type": "code",
   "execution_count": 10,
   "id": "7d97eb56",
   "metadata": {},
   "outputs": [
    {
     "name": "stdout",
     "output_type": "stream",
     "text": [
      "104\n",
      "84\n",
      "940\n",
      "9.4\n"
     ]
    }
   ],
   "source": [
    "class Calculator:\n",
    "    def __init__(self,num1,num2):\n",
    "        \n",
    "        self.num1=num1\n",
    "        self.num2=num2\n",
    "    def add(self):\n",
    "        print(self.num1+self.num2)\n",
    "        \n",
    "    def subtract(self):\n",
    "        print(self.num2-self.num1)\n",
    "        \n",
    "    def multiply(self):\n",
    "        print(self.num2*self.num1) \n",
    "        \n",
    "    def divide(self):\n",
    "        print(self.num2/self.num1)\n",
    "        \n",
    "obj = Calculator(10, 94)\n",
    "obj.add()\n",
    "obj.subtract()\n",
    "obj.multiply()\n",
    "obj.divide()"
   ]
  },
  {
   "cell_type": "code",
   "execution_count": null,
   "id": "e700a100",
   "metadata": {},
   "outputs": [],
   "source": [
    "Challenge 3: Implement the Complete Student Class\n",
    "🔴In this challenge, you will implement a student class\n",
    "Problem statement\n",
    "\n",
    "Implement the complete Student class by completing the tasks below\n",
    "\n",
    "Task\n",
    "\n",
    "👉 Implement the following properties as private:\n",
    "\n",
    "• name\n",
    "• rollNumber\n",
    "👉 Include the following methods to get and set the private properties above:\n",
    "\n",
    "• getName()\n",
    "• setName()\n",
    "• getRollNumber()\n",
    "• setRollNumber()\n",
    "👉 Implement this class according to the rules of encapsulation.\n",
    "\n",
    "Input - Checking all the properties and methods\n",
    "\n",
    "Output - Expecting perfectly defined fields and getter/setters\n",
    "\n",
    "Note: Do not use initializers to initialize the properties. Use the set methods to do so.\n",
    "\n",
    "If the setter is not defined properly, the corresponding getter will also generate an error even if the getter is defined properly.\n",
    "\n",
    "Coding exercise\n",
    "\n",
    "class Student:\n",
    "\n",
    "    def setName(self):\n",
    "        pass\n",
    "    def getName(self):\n",
    "        pass\n",
    "    def setRollNumber(self):\n",
    "        pass\n",
    "    def getRollNumber(self):\n",
    "        pass"
   ]
  },
  {
   "cell_type": "code",
   "execution_count": 21,
   "id": "7f994878",
   "metadata": {},
   "outputs": [
    {
     "name": "stdout",
     "output_type": "stream",
     "text": [
      "Name of the student : veeksha\n",
      "Roll number : 18\n"
     ]
    }
   ],
   "source": [
    "class Student:\n",
    "\n",
    "    def setName(self,Name):\n",
    "        self.__Name =Name\n",
    "        \n",
    "    def getName(self):\n",
    "        return self.__Name\n",
    "        \n",
    "    def setRollNumber(self,RollNumber):\n",
    "        self.__Rollno = RollNumber\n",
    "\n",
    "    def getRollNumber(self):\n",
    "        return self.__Rollno\n",
    "student = Student()\n",
    "student.setName(\"veeksha\")\n",
    "student.setRollNumber(18)\n",
    "name=student.getName()\n",
    "rollno=student.getRollNumber()\n",
    "print(\"Name of the student :\",name)\n",
    "print(\"Roll number :\",rollno)\n",
    "\n"
   ]
  },
  {
   "cell_type": "raw",
   "id": "8c87c255",
   "metadata": {},
   "source": [
    "# Challenge 4: Implement a Banking Account\n",
    "\n",
    "    🔴 In this challenge, you will implement a banking account using the concepts of inheritance.\n",
    "\n",
    "**Problem statement**\n",
    "\n",
    "Implement the basic structure of a parent class, `Account`, and a child class, `SavingsAccount`.\n",
    "\n",
    "*Task 1*\n",
    "\n",
    "👉  Implement properties as `instance variables`, and set them to `None` or `0`.\n",
    "\n",
    "`Account` has the following properties:\n",
    "\n",
    "        • title\n",
    "        • Balance\n",
    "\n",
    "`SavingsAccount` has the following properties:\n",
    "\n",
    "        • interestRate\n",
    "\n",
    "*Task 2*\n",
    "\n",
    "Create an `initializer` for Account class. The order of parameters should be the following, where `Ashish` is the `title`, and `5000` is the `account balance`:\n",
    "\n",
    "**Account(\"Ashish\", 5000)**\n",
    "\n",
    "*Task 3*\n",
    "\n",
    "Implement properties as **instance variables**, and set them to `None` or `0`.\n",
    "\n",
    "Create an `initializer` for the `SavingsAccount` class using the initializer of the `Account` class in the order below:\n",
    "\n",
    "**Account(\"Ashish\", 5000, 5)**\n",
    "\n",
    "Here, `Ashish`  is the `title` and `5000` is the `balance` and `5` is the `interestRate`.\n",
    "\n",
    "![image1](images/02.png)\n",
    "\n",
    "Coding exercise\n",
    "\n",
    "    class Account:\n",
    "\n",
    "        def __init__(self):\n",
    "            # write your code here\n",
    "            pass\n",
    "\n",
    "    class SavingsAccount():\n",
    "\n",
    "        def __init__(self):\n",
    "            # write your code here\n",
    "            Pass\n"
   ]
  },
  {
   "cell_type": "code",
   "execution_count": 24,
   "id": "298bad4f",
   "metadata": {},
   "outputs": [
    {
     "name": "stdout",
     "output_type": "stream",
     "text": [
      "The Account title : Ashish\n",
      "The Account_balance is : 5000\n",
      "The Account title : Ashish\n",
      "The Account_balance is : 5000\n",
      "The interestRate is : 5\n"
     ]
    }
   ],
   "source": [
    "class Account:\n",
    "\n",
    "    def __init__(self, title=None, balance=0):\n",
    "        self.title = title\n",
    "        self.balance = balance \n",
    "\n",
    "class SavingsAccount(Account):\n",
    "\n",
    "    def __init__(self, title=None, balance=0, interestRate=0):\n",
    "        super().__init__(title,balance)\n",
    "        self.interestRate = interestRate\n",
    "acc=Account(\"Ashish\",5000)\n",
    "print(\"The Account title :\",acc.title)\n",
    "print(\"The Account_balance is :\",acc.balance)\n",
    "savings=SavingsAccount(\"Ashish\",5000,5)\n",
    "print(\"The Account title :\",savings.title)\n",
    "print(\"The Account_balance is :\",savings.balance)\n",
    "print(\"The interestRate is :\",savings.interestRate)\n",
    "\n",
    "\n",
    "\n",
    "\n"
   ]
  },
  {
   "cell_type": "raw",
   "id": "5fbd2c9c",
   "metadata": {},
   "source": [
    "Challenge 5: Handling a Bank Account\n",
    "🔴 In this challenge, you will define methods for handling a bank account using concepts of inheritance.\n",
    "\n",
    "Problem statement\n",
    "\n",
    "In this challenge, we will be extending the previous challenge and implementing methods in the parent class and its corresponding child class.\n",
    "\n",
    "The initializers for both classes have been defined for you.\n",
    "\n",
    "Task 1\n",
    "\n",
    "In the Account class, implement the getBalance() method that returns balance.\n",
    "\n",
    "Task 2\n",
    "\n",
    "In the Account class, implement the deposit(amount) method that adds amount to the balance.\n",
    "\n",
    "It does not return anything.\n",
    "\n",
    "Sample input\n",
    "\n",
    "balance = 2000\n",
    "deposit(500)\n",
    "getbalance()\n",
    "Sample output\n",
    "\n",
    "2500\n",
    "Task 3\n",
    "\n",
    "In the Account class, implement the withdrawal(amount) method that subtracts the amount from the balance.\n",
    "\n",
    "It does not return anything.\n",
    "\n",
    "Sample input\n",
    "\n",
    "balance = 2000\n",
    "withdrawal(500)\n",
    "getbalance()\n",
    "Sample output\n",
    "\n",
    "1500\n",
    "Task 4\n",
    "\n",
    "In the SavingsAccount class, implement an interestAmount() method that returns the interest amount of the current balance.\n",
    "\n",
    "Below is the formula for calculating the interest amount:\n",
    "\n",
    "image1\n",
    "\n",
    "Sample input\n",
    "\n",
    "balance = 2000\n",
    "interestRate = 5\n",
    "interestAmount()\n",
    "Sample output\n",
    "\n",
    "100\n",
    "The following figure shows what the result should logically look like:\n",
    "\n",
    "image1\n",
    "\n",
    "Coding exercise\n",
    "\n",
    "Note: A new SavingsClass object is initialized at the end of the code and test results will be based on it.\n",
    "\n",
    "class Account:\n",
    "    def __init__(self, title=None, balance=0):\n",
    "        self.title = title\n",
    "        self.balance = balance\n",
    "    \n",
    "    def withdrawal(self, amount):\n",
    "        # write code here\n",
    "        pass\n",
    "\n",
    "    def deposit(self, amount):\n",
    "        # write code here\n",
    "        pass\n",
    "    def getBalance(self):\n",
    "        # write code here\n",
    "        pass\n",
    "\n",
    "class SavingsAccount(Account):\n",
    "    def __init__(self, title=None, balance=0, interestRate=0):\n",
    "            super().__init__(title, balance)\n",
    "            self.interestRate = interestRate\n",
    "    \n",
    "    def interestAmount(self):\n",
    "        # write code here\n",
    "        pass\n",
    "\n",
    "#code to test - do not edit this\n",
    "\n",
    "demo1 = SavingsAccount(\"Ashish\", 2000, 5)   # initializing a SavingsAccount object\n"
   ]
  },
  {
   "cell_type": "code",
   "execution_count": 55,
   "id": "7236c65f",
   "metadata": {},
   "outputs": [],
   "source": [
    "class Account:\n",
    "    def __init__(self, title=None, balance=0):\n",
    "        self.title = title\n",
    "        self.balance = balance\n",
    "    \n",
    "    def withdrawal(self, amount):\n",
    "        self.amount=amount\n",
    "        self.balance=self.balance-self.amount\n",
    "\n",
    "    def deposit(self, amount):\n",
    "        self.amount=amount\n",
    "        self.balance= self.balance+self.amount\n",
    "\n",
    "    def getBalance(self):\n",
    "        return self.balance\n",
    "\n",
    "class SavingsAccount(Account):\n",
    "    def __init__(self, title=None, balance=0, interestRate=0):\n",
    "            super().__init__(title, balance)\n",
    "            self.interestRate = interestRate\n",
    "    \n",
    "    def interestAmount(self):\n",
    "        return (self.interestRate*self.balance)/100\n",
    "        "
   ]
  },
  {
   "cell_type": "code",
   "execution_count": 63,
   "id": "ce9a1b4d",
   "metadata": {},
   "outputs": [],
   "source": [
    "demo1 = SavingsAccount(\"Ashish\", 2000, 5)\n"
   ]
  },
  {
   "cell_type": "code",
   "execution_count": 64,
   "id": "8d5ed36e",
   "metadata": {},
   "outputs": [
    {
     "data": {
      "text/plain": [
       "2500"
      ]
     },
     "execution_count": 64,
     "metadata": {},
     "output_type": "execute_result"
    }
   ],
   "source": [
    "demo1.deposit(500)\n",
    "demo1.getBalance()"
   ]
  },
  {
   "cell_type": "code",
   "execution_count": 65,
   "id": "3f92ff6c",
   "metadata": {},
   "outputs": [
    {
     "data": {
      "text/plain": [
       "2000"
      ]
     },
     "execution_count": 65,
     "metadata": {},
     "output_type": "execute_result"
    }
   ],
   "source": [
    "demo1.withdrawal(500)\n",
    "demo1.getBalance()"
   ]
  },
  {
   "cell_type": "code",
   "execution_count": 66,
   "id": "f57cde1f",
   "metadata": {},
   "outputs": [
    {
     "data": {
      "text/plain": [
       "100.0"
      ]
     },
     "execution_count": 66,
     "metadata": {},
     "output_type": "execute_result"
    }
   ],
   "source": [
    "demo1.interestAmount()"
   ]
  },
  {
   "cell_type": "code",
   "execution_count": 50,
   "id": "2959c60e",
   "metadata": {},
   "outputs": [],
   "source": []
  },
  {
   "cell_type": "code",
   "execution_count": null,
   "id": "4dbf21de",
   "metadata": {},
   "outputs": [],
   "source": []
  },
  {
   "cell_type": "code",
   "execution_count": null,
   "id": "c4a980dd",
   "metadata": {},
   "outputs": [],
   "source": []
  }
 ],
 "metadata": {
  "kernelspec": {
   "display_name": "Python 3 (ipykernel)",
   "language": "python",
   "name": "python3"
  },
  "language_info": {
   "codemirror_mode": {
    "name": "ipython",
    "version": 3
   },
   "file_extension": ".py",
   "mimetype": "text/x-python",
   "name": "python",
   "nbconvert_exporter": "python",
   "pygments_lexer": "ipython3",
   "version": "3.10.9"
  }
 },
 "nbformat": 4,
 "nbformat_minor": 5
}
