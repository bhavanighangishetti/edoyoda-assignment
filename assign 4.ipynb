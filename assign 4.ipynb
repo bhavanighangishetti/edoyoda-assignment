{
 "cells": [
  {
   "cell_type": "markdown",
   "id": "ef80c29f",
   "metadata": {},
   "source": [
    "Write a Python program to create a lambda function that adds 25 to a given number passed in as an argument.\n",
    "\n",
    "sample input: 10\n",
    "\n",
    "sample output: 35\n"
   ]
  },
  {
   "cell_type": "code",
   "execution_count": 10,
   "id": "38dee57f",
   "metadata": {},
   "outputs": [
    {
     "name": "stdout",
     "output_type": "stream",
     "text": [
      "sample input: 10\n",
      "sample output: 35\n"
     ]
    }
   ],
   "source": [
    "x=int(input(\"sample input: \"))\n",
    "fun1=lambda x:x+25\n",
    "print(\"sample output:\",fun1(x))"
   ]
  },
  {
   "cell_type": "markdown",
   "id": "a9bb5fbe",
   "metadata": {},
   "source": [
    "Write a Python program to triple all numbers of a given list of integers. Use Python map.\n",
    "\n",
    "sample list: [1, 2, 3, 4, 5, 6, 7]\n",
    "Triple of list numbers:\n",
    "\n",
    "[3, 6, 9, 12, 15, 18, 21]"
   ]
  },
  {
   "cell_type": "code",
   "execution_count": 11,
   "id": "e45eb0e5",
   "metadata": {},
   "outputs": [
    {
     "name": "stdout",
     "output_type": "stream",
     "text": [
      "sample list:[1, 2, 3, 4, 5, 6, 7]\n",
      "Triple of list numbers : \n",
      "[3, 6, 9, 12, 15, 18, 21]\n"
     ]
    }
   ],
   "source": [
    "sample_list=eval(input(\"sample list:\"))\n",
    "Triple_list= map(lambda x:x+x+x,sample_list)\n",
    "print(\"Triple of list numbers : \")\n",
    "print(list(Triple_list))\n",
    "\n"
   ]
  },
  {
   "cell_type": "markdown",
   "id": "5cff6454",
   "metadata": {},
   "source": [
    "Write a Python program to square the elements of a list using map() function.\n",
    "\n",
    "Sample List: [4, 5, 2, 9]\n",
    "\n",
    "Square the elements of the list:\n",
    "\n",
    "[16, 25, 4, 81]\n",
    "\n"
   ]
  },
  {
   "cell_type": "code",
   "execution_count": 12,
   "id": "1cd40296",
   "metadata": {},
   "outputs": [
    {
     "name": "stdout",
     "output_type": "stream",
     "text": [
      "sample_list : [4, 5, 2, 9]\n",
      "Square the elements of the list: \n",
      "[16, 25, 4, 81]\n"
     ]
    }
   ],
   "source": [
    "sample_list=eval(input(\"sample_list : \"))\n",
    "square_list=list(map(lambda x:x*x,sample_list))\n",
    "print(\"Square the elements of the list: \")\n",
    "print(square_list)"
   ]
  },
  {
   "cell_type": "code",
   "execution_count": null,
   "id": "62588978",
   "metadata": {},
   "outputs": [],
   "source": []
  }
 ],
 "metadata": {
  "kernelspec": {
   "display_name": "Python 3 (ipykernel)",
   "language": "python",
   "name": "python3"
  },
  "language_info": {
   "codemirror_mode": {
    "name": "ipython",
    "version": 3
   },
   "file_extension": ".py",
   "mimetype": "text/x-python",
   "name": "python",
   "nbconvert_exporter": "python",
   "pygments_lexer": "ipython3",
   "version": "3.10.9"
  }
 },
 "nbformat": 4,
 "nbformat_minor": 5
}
