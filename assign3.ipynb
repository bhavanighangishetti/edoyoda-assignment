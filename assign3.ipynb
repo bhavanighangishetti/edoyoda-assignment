{
 "cells": [
  {
   "cell_type": "markdown",
   "id": "3740cab8",
   "metadata": {},
   "source": [
    " Write a Python function to sum all the numbers in a list.\n",
    "Sample List : (8, 2, 3, 0, 7)\n",
    "Expected Output : 20\n",
    "Explanation:\n",
    "Summation should like 8+2+3+0+7 = 20"
   ]
  },
  {
   "cell_type": "code",
   "execution_count": 9,
   "id": "acfa0d90",
   "metadata": {},
   "outputs": [
    {
     "name": "stdout",
     "output_type": "stream",
     "text": [
      "enter the list of elements[8, 2, 3, 0, 7]\n"
     ]
    },
    {
     "data": {
      "text/plain": [
       "20"
      ]
     },
     "execution_count": 9,
     "metadata": {},
     "output_type": "execute_result"
    }
   ],
   "source": [
    "def sum_list(l):\n",
    "    sum=0\n",
    "    for i in l:\n",
    "        sum=sum+i\n",
    "    return sum\n",
    "l=eval(input(\"enter the list of elements\"))\n",
    "sum_list(l)"
   ]
  },
  {
   "cell_type": "markdown",
   "id": "e90f3f78",
   "metadata": {},
   "source": [
    "Write a Python program to reverse a string.\n",
    "\n",
    "Sample String : \"1234abcd\"\n",
    "\n",
    "Expected Output : \"dcba4321\""
   ]
  },
  {
   "cell_type": "code",
   "execution_count": 2,
   "id": "d657f95e",
   "metadata": {},
   "outputs": [
    {
     "name": "stdout",
     "output_type": "stream",
     "text": [
      "enter the string:1234abcd\n"
     ]
    },
    {
     "data": {
      "text/plain": [
       "'dcba4321'"
      ]
     },
     "execution_count": 2,
     "metadata": {},
     "output_type": "execute_result"
    }
   ],
   "source": [
    "def reverse(sample_string):\n",
    "\n",
    "    reversed_string=sample_string[-1::-1]\n",
    "    return reversed_string\n",
    "sample_string=input(\"enter the string:\")\n",
    "reverse(sample_string)"
   ]
  },
  {
   "cell_type": "markdown",
   "id": "37c9c68b",
   "metadata": {},
   "source": [
    "Write a Python function that accepts a string and calculate the number of upper case letters and lower case letters.\n",
    "\n",
    "Sample String : 'The quick Brow Fox'\n",
    "\n",
    "Expected Output :\n",
    "\n",
    "No. of Upper case characters : 3\n",
    "\n",
    "No. of Lower case Characters : 12"
   ]
  },
  {
   "cell_type": "code",
   "execution_count": 1,
   "id": "7e22fa15",
   "metadata": {},
   "outputs": [
    {
     "name": "stdout",
     "output_type": "stream",
     "text": [
      "enter the string :'The quick Brow Fox'\n",
      "no of upper case  3\n",
      "no of lower case  12\n"
     ]
    }
   ],
   "source": [
    "def string_type(s):\n",
    "    lower=0\n",
    "    upper=0\n",
    "    for ch in s:\n",
    "        if ch.islower():\n",
    "            lower+=1\n",
    "        elif ch.isupper():\n",
    "            upper+=1\n",
    "        else:\n",
    "            pass\n",
    "    print(\"no of upper case \",upper)\n",
    "    print(\"no of lower case \",lower)\n",
    "s=input(\"enter the string :\")\n",
    "string_type(s)\n",
    "        "
   ]
  }
 ],
 "metadata": {
  "kernelspec": {
   "display_name": "Python 3 (ipykernel)",
   "language": "python",
   "name": "python3"
  },
  "language_info": {
   "codemirror_mode": {
    "name": "ipython",
    "version": 3
   },
   "file_extension": ".py",
   "mimetype": "text/x-python",
   "name": "python",
   "nbconvert_exporter": "python",
   "pygments_lexer": "ipython3",
   "version": "3.10.9"
  }
 },
 "nbformat": 4,
 "nbformat_minor": 5
}
