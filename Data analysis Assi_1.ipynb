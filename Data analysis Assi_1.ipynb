{
 "cells": [
  {
   "cell_type": "markdown",
   "id": "3dade253",
   "metadata": {},
   "source": [
    "# Create New Cond Col"
   ]
  },
  {
   "cell_type": "code",
   "execution_count": 19,
   "id": "6a8c918b",
   "metadata": {},
   "outputs": [
    {
     "name": "stdout",
     "output_type": "stream",
     "text": [
      "        ship_mode  sales  profit  surcharge  total_cost\n",
      "0        Same Day    100      10        0.2       108.0\n",
      "1     First Class    200      20        0.1       198.0\n",
      "2  Standard Class    300      30        0.5       405.0\n",
      "3           Other    400      40        0.0       360.0\n"
     ]
    }
   ],
   "source": [
    "import pandas as pd\n",
    "import numpy as np\n",
    "\n",
    "df = pd.DataFrame({'ship_mode': ['Same Day', 'First Class', 'Standard Class', 'Other'],\n",
    "                   'sales': [100, 200, 300, 400],\n",
    "                   'profit': [10, 20, 30, 40]})\n",
    "\n",
    "df['surcharge'] = np.where(df['ship_mode'] == 'Same Day', 0.2,\n",
    "                         np.where(df['ship_mode'] == 'First Class', 0.1,\n",
    "                                  np.where(df['ship_mode'] == 'Standard Class', 0.5, 0)))\n",
    "\n",
    "df['total_cost'] = (df['sales'] - df['profit']) * (1 + df['surcharge'])\n",
    "\n",
    "print(df)\n"
   ]
  }
 ],
 "metadata": {
  "kernelspec": {
   "display_name": "Python 3 (ipykernel)",
   "language": "python",
   "name": "python3"
  },
  "language_info": {
   "codemirror_mode": {
    "name": "ipython",
    "version": 3
   },
   "file_extension": ".py",
   "mimetype": "text/x-python",
   "name": "python",
   "nbconvert_exporter": "python",
   "pygments_lexer": "ipython3",
   "version": "3.10.9"
  }
 },
 "nbformat": 4,
 "nbformat_minor": 5
}
