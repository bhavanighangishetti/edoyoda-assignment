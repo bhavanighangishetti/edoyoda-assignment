{
 "cells": [
  {
   "cell_type": "markdown",
   "id": "7d371aca",
   "metadata": {},
   "source": [
    "1. Create a null vector of size 10 but the fifth value which is 1.\n"
   ]
  },
  {
   "cell_type": "code",
   "execution_count": 1,
   "id": "6c75adb9",
   "metadata": {},
   "outputs": [
    {
     "name": "stdout",
     "output_type": "stream",
     "text": [
      "[0. 0. 0. 0. 1. 0. 0. 0. 0. 0.]\n"
     ]
    }
   ],
   "source": [
    "import numpy as np\n",
    "null_vector = np.zeros(10)\n",
    "null_vector[4]=1\n",
    "print(null_vector)"
   ]
  },
  {
   "cell_type": "markdown",
   "id": "8248b3da",
   "metadata": {},
   "source": [
    "2. Create a vector with values ranging from 10 to 49.\n"
   ]
  },
  {
   "cell_type": "code",
   "execution_count": 2,
   "id": "9ada5f23",
   "metadata": {},
   "outputs": [
    {
     "name": "stdout",
     "output_type": "stream",
     "text": [
      "[10 11 12 13 14 15 16 17 18 19 20 21 22 23 24 25 26 27 28 29 30 31 32 33\n",
      " 34 35 36 37 38 39 40 41 42 43 44 45 46 47 48 49]\n"
     ]
    }
   ],
   "source": [
    "import numpy as np\n",
    "vector = np.arange(10,50)\n",
    "print(vector)"
   ]
  },
  {
   "cell_type": "markdown",
   "id": "dcf0d389",
   "metadata": {},
   "source": [
    "3. Create a 3x3 matrix with values ranging from 0 to 8\n"
   ]
  },
  {
   "cell_type": "code",
   "execution_count": 5,
   "id": "4d599591",
   "metadata": {},
   "outputs": [
    {
     "name": "stdout",
     "output_type": "stream",
     "text": [
      "[[0 1 2]\n",
      " [3 4 5]\n",
      " [6 7 8]]\n"
     ]
    }
   ],
   "source": [
    "import numpy as np\n",
    "matrix=np.arange(9).reshape(3,3)\n",
    "print(matrix)"
   ]
  },
  {
   "cell_type": "markdown",
   "id": "b085181a",
   "metadata": {},
   "source": [
    "4. Find indices of non-zero elements from [1,2,0,0,4,0]\n"
   ]
  },
  {
   "cell_type": "code",
   "execution_count": 6,
   "id": "681a2efa",
   "metadata": {},
   "outputs": [
    {
     "name": "stdout",
     "output_type": "stream",
     "text": [
      "(array([0, 1, 4], dtype=int64),)\n"
     ]
    }
   ],
   "source": [
    "import numpy as np\n",
    "arr= np.array([1,2,0,0,4,0])\n",
    "non_zero_indices = np.nonzero(arr)\n",
    "print(non_zero_indices)"
   ]
  },
  {
   "cell_type": "markdown",
   "id": "f7c9da53",
   "metadata": {},
   "source": [
    "5. Create a 10x10 array with random values and find the minimum and maximum values.\n"
   ]
  },
  {
   "cell_type": "code",
   "execution_count": 7,
   "id": "bff5f658",
   "metadata": {},
   "outputs": [
    {
     "name": "stdout",
     "output_type": "stream",
     "text": [
      "[[0.05552181 0.97723725 0.28256652 0.46604743 0.80177846 0.27319478\n",
      "  0.68201489 0.35485481 0.58286558 0.36281386]\n",
      " [0.31231485 0.50950408 0.93535715 0.45887638 0.92184122 0.71658067\n",
      "  0.08026903 0.34224225 0.12788665 0.24566758]\n",
      " [0.39134769 0.01122829 0.55585931 0.0251603  0.32019744 0.05570728\n",
      "  0.19736562 0.8946226  0.14981636 0.18221318]\n",
      " [0.6981696  0.70696186 0.49030824 0.18620134 0.62518982 0.78772054\n",
      "  0.24312914 0.97226707 0.32685218 0.24112163]\n",
      " [0.05026774 0.72502185 0.89938697 0.76140184 0.8947931  0.83340684\n",
      "  0.36456778 0.0706109  0.82319019 0.84203833]\n",
      " [0.58284721 0.89283164 0.80334995 0.15751913 0.82215786 0.14221743\n",
      "  0.06498054 0.31436566 0.46286173 0.05637222]\n",
      " [0.3970808  0.76772625 0.57704858 0.07879539 0.12260595 0.03002849\n",
      "  0.80169349 0.68704309 0.42336576 0.38167843]\n",
      " [0.32183474 0.38291132 0.27435509 0.78838729 0.67316269 0.05023079\n",
      "  0.30413684 0.51756883 0.26056191 0.6141287 ]\n",
      " [0.62377688 0.48700522 0.61433911 0.265617   0.54303649 0.47169713\n",
      "  0.53040254 0.99965742 0.90712258 0.87688554]\n",
      " [0.20216175 0.47034804 0.47000643 0.25554078 0.26369533 0.63190721\n",
      "  0.91030552 0.82406241 0.46511384 0.73825504]]\n",
      "Minimum Value:0.011228289003064829\n",
      "Maximum Value:0.9996574222893193\n"
     ]
    }
   ],
   "source": [
    "import numpy as np\n",
    "random_array=np.random.rand(10,10)\n",
    "minimum_value=random_array.min()\n",
    "maximum_value=random_array.max()\n",
    "print(random_array)\n",
    "print(f\"Minimum Value:{minimum_value}\")\n",
    "print(f\"Maximum Value:{maximum_value}\")"
   ]
  },
  {
   "cell_type": "markdown",
   "id": "4f29c998",
   "metadata": {},
   "source": [
    "6. Create a random vector of size 30 and find the mean value.\n"
   ]
  },
  {
   "cell_type": "code",
   "execution_count": 10,
   "id": "e93a921e",
   "metadata": {},
   "outputs": [
    {
     "name": "stdout",
     "output_type": "stream",
     "text": [
      "[0.50606826 0.0136294  0.90744548 0.46374516 0.16073339 0.8732682\n",
      " 0.95207424 0.61844484 0.27679231 0.48188478 0.58824555 0.2096633\n",
      " 0.08853604 0.5142429  0.00722759 0.33854083 0.43801743 0.34873142\n",
      " 0.05725442 0.83782595 0.14079328 0.73126393 0.20042144 0.69065418\n",
      " 0.23942562 0.22275121 0.13887027 0.77119539 0.93696611 0.90997925]\n",
      "Mean Value:0.4554897389747615\n"
     ]
    }
   ],
   "source": [
    "import numpy as np\n",
    "random_vector = np.random.rand(30)\n",
    "mean_value=random_vector.mean()\n",
    "print(random_vector)\n",
    "print(f\"Mean Value:{mean_value}\")"
   ]
  }
 ],
 "metadata": {
  "kernelspec": {
   "display_name": "Python 3 (ipykernel)",
   "language": "python",
   "name": "python3"
  },
  "language_info": {
   "codemirror_mode": {
    "name": "ipython",
    "version": 3
   },
   "file_extension": ".py",
   "mimetype": "text/x-python",
   "name": "python",
   "nbconvert_exporter": "python",
   "pygments_lexer": "ipython3",
   "version": "3.10.9"
  }
 },
 "nbformat": 4,
 "nbformat_minor": 5
}
